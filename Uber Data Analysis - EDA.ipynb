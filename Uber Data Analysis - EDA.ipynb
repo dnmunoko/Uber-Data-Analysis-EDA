{
 "cells": [
  {
   "cell_type": "markdown",
   "id": "4bf68497-8b2c-4040-9801-39473527c0a2",
   "metadata": {},
   "source": [
    "# **Uber Data Analysis**"
   ]
  },
  {
   "cell_type": "markdown",
   "id": "7dd73a27-a643-46b1-b46b-ddda45ab1409",
   "metadata": {},
   "source": [
    "#### **Introduction**"
   ]
  },
  {
   "cell_type": "markdown",
   "id": "bd1e0925-23a7-4a00-a010-c3478d36dc60",
   "metadata": {},
   "source": [
    "##### This analysis can reveal interesting patterns about how an Uber user behaved in 2016. It might show cultural or regional differences in trip purposes or typical travel distances."
   ]
  },
  {
   "cell_type": "markdown",
   "id": "11d0ed1b-932e-401b-8cbc-c34e26689a84",
   "metadata": {},
   "source": [
    "---"
   ]
  },
  {
   "cell_type": "markdown",
   "id": "195f3f64-a34f-4efb-abe4-6f41fe33e7eb",
   "metadata": {},
   "source": [
    "#### **Dataset Description**\n",
    "##### The dataset contains details of personal Uber drives for the year 2016. It includes the following columns:\n",
    "\n",
    "- **START_DATE**: The date when the trip started.\n",
    "- **END_DATE**: The date when the trip ended.\n",
    "- **START**: The starting location of the trip.\n",
    "- **END**: The ending location of the trip.\n",
    "- **MILES**: The distance covered in miles during the trip.\n",
    "- **CATEGORY**: This icludes Business, Personal.\n",
    "- **PURPOSE**: The purpose of the drive, which could be categorized as Meals, Errands, Meetings, Customer Support, etc.\n",
    "\n",
    "##### The dataset covers three geographic areas, including the USA, Sri Lanka, and Pakistan. \n",
    "\n",
    "##### It contains a total of 1,115 drives and 12,204 miles.\n"
   ]
  },
  {
   "cell_type": "markdown",
   "id": "de4ee989-27d9-4baf-ad17-37a365ea6763",
   "metadata": {},
   "source": [
    "---"
   ]
  },
  {
   "cell_type": "markdown",
   "id": "621cd891-0b4b-4c3d-b8a3-520a42612945",
   "metadata": {},
   "source": [
    "#### **Import Libraries**"
   ]
  },
  {
   "cell_type": "code",
   "execution_count": 1,
   "id": "81de1662-b586-4017-b3f1-42097664d996",
   "metadata": {},
   "outputs": [],
   "source": [
    "#Import Libraries\n",
    "import pandas as pd\n",
    "import numpy as np\n",
    "import datetime\n",
    "import matplotlib\n",
    "import matplotlib.pyplot as plt\n",
    "import seaborn as sns\n",
    "import calendar"
   ]
  },
  {
   "cell_type": "markdown",
   "id": "c4ac3893-5379-413e-a123-60b9f34850d0",
   "metadata": {},
   "source": [
    "----"
   ]
  },
  {
   "cell_type": "markdown",
   "id": "5aa10bfc-77f0-4a08-ac97-f9f0a8adca77",
   "metadata": {},
   "source": [
    "#### **Load Data**"
   ]
  },
  {
   "cell_type": "code",
   "execution_count": 2,
   "id": "21ac35fe-f691-4289-a035-1e6c8f64fb20",
   "metadata": {},
   "outputs": [],
   "source": [
    "#Load Data\n",
    "df = pd.read_csv('/kaggle/input/uberdrives/My Uber Drives - 2016.csv')"
   ]
  },
  {
   "cell_type": "markdown",
   "id": "403c96d2-7a61-4c44-98e9-5ac544648101",
   "metadata": {},
   "source": [
    "---"
   ]
  },
  {
   "cell_type": "markdown",
   "id": "80bc06b2-bf29-4686-a8f8-1415186eacff",
   "metadata": {},
   "source": [
    "#### **View Data**"
   ]
  },
  {
   "cell_type": "code",
   "execution_count": 3,
   "id": "6028844e-51fb-492f-92da-6b01882a6a6f",
   "metadata": {},
   "outputs": [
    {
     "name": "stdout",
     "output_type": "stream",
     "text": [
      "(1155, 7)\n"
     ]
    }
   ],
   "source": [
    "# Dataset length - Number of rows and columns\n",
    "#Dataset contains 1,115 rows and 7 columns\n",
    "print(df.shape)"
   ]
  },
  {
   "cell_type": "code",
   "execution_count": 4,
   "id": "2217904a-fa08-4e95-83fc-fca3b0682746",
   "metadata": {},
   "outputs": [
    {
     "data": {
      "text/html": [
       "<div>\n",
       "<style scoped>\n",
       "    .dataframe tbody tr th:only-of-type {\n",
       "        vertical-align: middle;\n",
       "    }\n",
       "\n",
       "    .dataframe tbody tr th {\n",
       "        vertical-align: top;\n",
       "    }\n",
       "\n",
       "    .dataframe thead th {\n",
       "        text-align: right;\n",
       "    }\n",
       "</style>\n",
       "<table border=\"1\" class=\"dataframe\">\n",
       "  <thead>\n",
       "    <tr style=\"text-align: right;\">\n",
       "      <th></th>\n",
       "      <th>MILES</th>\n",
       "    </tr>\n",
       "  </thead>\n",
       "  <tbody>\n",
       "    <tr>\n",
       "      <th>count</th>\n",
       "      <td>1155.000000</td>\n",
       "    </tr>\n",
       "    <tr>\n",
       "      <th>mean</th>\n",
       "      <td>10.566840</td>\n",
       "    </tr>\n",
       "    <tr>\n",
       "      <th>std</th>\n",
       "      <td>21.579106</td>\n",
       "    </tr>\n",
       "    <tr>\n",
       "      <th>min</th>\n",
       "      <td>0.500000</td>\n",
       "    </tr>\n",
       "    <tr>\n",
       "      <th>25%</th>\n",
       "      <td>2.900000</td>\n",
       "    </tr>\n",
       "    <tr>\n",
       "      <th>50%</th>\n",
       "      <td>6.000000</td>\n",
       "    </tr>\n",
       "    <tr>\n",
       "      <th>75%</th>\n",
       "      <td>10.400000</td>\n",
       "    </tr>\n",
       "    <tr>\n",
       "      <th>max</th>\n",
       "      <td>310.300000</td>\n",
       "    </tr>\n",
       "  </tbody>\n",
       "</table>\n",
       "</div>"
      ],
      "text/plain": [
       "             MILES\n",
       "count  1155.000000\n",
       "mean     10.566840\n",
       "std      21.579106\n",
       "min       0.500000\n",
       "25%       2.900000\n",
       "50%       6.000000\n",
       "75%      10.400000\n",
       "max     310.300000"
      ]
     },
     "execution_count": 4,
     "metadata": {},
     "output_type": "execute_result"
    }
   ],
   "source": [
    "#Descriptive Statistics\n",
    "df.describe()"
   ]
  },
  {
   "cell_type": "code",
   "execution_count": 5,
   "id": "57dbf682-cb33-4914-99f5-a1ff954cea0a",
   "metadata": {},
   "outputs": [
    {
     "data": {
      "text/html": [
       "<div>\n",
       "<style scoped>\n",
       "    .dataframe tbody tr th:only-of-type {\n",
       "        vertical-align: middle;\n",
       "    }\n",
       "\n",
       "    .dataframe tbody tr th {\n",
       "        vertical-align: top;\n",
       "    }\n",
       "\n",
       "    .dataframe thead th {\n",
       "        text-align: right;\n",
       "    }\n",
       "</style>\n",
       "<table border=\"1\" class=\"dataframe\">\n",
       "  <thead>\n",
       "    <tr style=\"text-align: right;\">\n",
       "      <th></th>\n",
       "      <th>count</th>\n",
       "      <th>unique</th>\n",
       "      <th>top</th>\n",
       "      <th>freq</th>\n",
       "    </tr>\n",
       "  </thead>\n",
       "  <tbody>\n",
       "    <tr>\n",
       "      <th>START_DATE</th>\n",
       "      <td>1155</td>\n",
       "      <td>1154</td>\n",
       "      <td>6/28/2016 23:34</td>\n",
       "      <td>2</td>\n",
       "    </tr>\n",
       "    <tr>\n",
       "      <th>END_DATE</th>\n",
       "      <td>1155</td>\n",
       "      <td>1154</td>\n",
       "      <td>6/28/2016 23:59</td>\n",
       "      <td>2</td>\n",
       "    </tr>\n",
       "    <tr>\n",
       "      <th>CATEGORY</th>\n",
       "      <td>1155</td>\n",
       "      <td>2</td>\n",
       "      <td>Business</td>\n",
       "      <td>1078</td>\n",
       "    </tr>\n",
       "    <tr>\n",
       "      <th>START</th>\n",
       "      <td>1155</td>\n",
       "      <td>177</td>\n",
       "      <td>Cary</td>\n",
       "      <td>201</td>\n",
       "    </tr>\n",
       "    <tr>\n",
       "      <th>STOP</th>\n",
       "      <td>1155</td>\n",
       "      <td>188</td>\n",
       "      <td>Cary</td>\n",
       "      <td>203</td>\n",
       "    </tr>\n",
       "    <tr>\n",
       "      <th>PURPOSE</th>\n",
       "      <td>653</td>\n",
       "      <td>10</td>\n",
       "      <td>Meeting</td>\n",
       "      <td>187</td>\n",
       "    </tr>\n",
       "  </tbody>\n",
       "</table>\n",
       "</div>"
      ],
      "text/plain": [
       "           count unique              top  freq\n",
       "START_DATE  1155   1154  6/28/2016 23:34     2\n",
       "END_DATE    1155   1154  6/28/2016 23:59     2\n",
       "CATEGORY    1155      2         Business  1078\n",
       "START       1155    177             Cary   201\n",
       "STOP        1155    188             Cary   203\n",
       "PURPOSE      653     10          Meeting   187"
      ]
     },
     "execution_count": 5,
     "metadata": {},
     "output_type": "execute_result"
    }
   ],
   "source": [
    "# Descriptive statistics (for object)\n",
    "# Highest number of trips took place in Cary. These were business meeting trips\n",
    "df.describe(include=['object']).T"
   ]
  },
  {
   "cell_type": "code",
   "execution_count": 6,
   "id": "ab6e8cd6-0f37-4fc6-8dce-a3ba88f5819f",
   "metadata": {},
   "outputs": [
    {
     "name": "stdout",
     "output_type": "stream",
     "text": [
      "<class 'pandas.core.frame.DataFrame'>\n",
      "RangeIndex: 1155 entries, 0 to 1154\n",
      "Data columns (total 7 columns):\n",
      " #   Column      Non-Null Count  Dtype  \n",
      "---  ------      --------------  -----  \n",
      " 0   START_DATE  1155 non-null   object \n",
      " 1   END_DATE    1155 non-null   object \n",
      " 2   CATEGORY    1155 non-null   object \n",
      " 3   START       1155 non-null   object \n",
      " 4   STOP        1155 non-null   object \n",
      " 5   MILES       1155 non-null   float64\n",
      " 6   PURPOSE     653 non-null    object \n",
      "dtypes: float64(1), object(6)\n",
      "memory usage: 63.3+ KB\n"
     ]
    }
   ],
   "source": [
    "# Get Data Types\n",
    "df.info()"
   ]
  },
  {
   "cell_type": "code",
   "execution_count": 7,
   "id": "b051f215-52f9-452f-b027-ce09bd49e6be",
   "metadata": {},
   "outputs": [
    {
     "data": {
      "text/plain": [
       "array(['Meal/Entertain', nan, 'Errand/Supplies', 'Meeting',\n",
       "       'Customer Visit', 'Temporary Site', 'Between Offices',\n",
       "       'Charity ($)', 'Commute', 'Moving', 'Airport/Travel'], dtype=object)"
      ]
     },
     "execution_count": 7,
     "metadata": {},
     "output_type": "execute_result"
    }
   ],
   "source": [
    "#Retrieve Unique Values in the Column\n",
    "df.PURPOSE.unique()"
   ]
  },
  {
   "cell_type": "code",
   "execution_count": 8,
   "id": "71caf056-d9fb-4a16-b120-9c95081ec860",
   "metadata": {},
   "outputs": [
    {
     "data": {
      "text/plain": [
       "array(['Business', 'Personal'], dtype=object)"
      ]
     },
     "execution_count": 8,
     "metadata": {},
     "output_type": "execute_result"
    }
   ],
   "source": [
    "#Retrieve Unique Values in the Column\n",
    "df.CATEGORY.unique()"
   ]
  },
  {
   "cell_type": "code",
   "execution_count": 9,
   "id": "ce394abe-b5ec-4e07-999a-33e8be185691",
   "metadata": {},
   "outputs": [
    {
     "data": {
      "text/plain": [
       "START_DATE      0\n",
       "END_DATE        0\n",
       "CATEGORY        0\n",
       "START           0\n",
       "STOP            0\n",
       "MILES           0\n",
       "PURPOSE       502\n",
       "dtype: int64"
      ]
     },
     "execution_count": 9,
     "metadata": {},
     "output_type": "execute_result"
    }
   ],
   "source": [
    "#Check Missing Values \n",
    "df.isnull().sum()"
   ]
  },
  {
   "cell_type": "code",
   "execution_count": 10,
   "id": "cfd66d1d-8cce-4a36-a867-e5bef4fe612d",
   "metadata": {},
   "outputs": [
    {
     "data": {
      "text/html": [
       "<div>\n",
       "<style scoped>\n",
       "    .dataframe tbody tr th:only-of-type {\n",
       "        vertical-align: middle;\n",
       "    }\n",
       "\n",
       "    .dataframe tbody tr th {\n",
       "        vertical-align: top;\n",
       "    }\n",
       "\n",
       "    .dataframe thead th {\n",
       "        text-align: right;\n",
       "    }\n",
       "</style>\n",
       "<table border=\"1\" class=\"dataframe\">\n",
       "  <thead>\n",
       "    <tr style=\"text-align: right;\">\n",
       "      <th></th>\n",
       "      <th>START_DATE</th>\n",
       "      <th>END_DATE</th>\n",
       "      <th>CATEGORY</th>\n",
       "      <th>START</th>\n",
       "      <th>STOP</th>\n",
       "      <th>MILES</th>\n",
       "      <th>PURPOSE</th>\n",
       "    </tr>\n",
       "  </thead>\n",
       "  <tbody>\n",
       "    <tr>\n",
       "      <th>0</th>\n",
       "      <td>1/1/2016 21:11</td>\n",
       "      <td>1/1/2016 21:17</td>\n",
       "      <td>Business</td>\n",
       "      <td>Fort Pierce</td>\n",
       "      <td>Fort Pierce</td>\n",
       "      <td>5.1</td>\n",
       "      <td>Meal/Entertain</td>\n",
       "    </tr>\n",
       "    <tr>\n",
       "      <th>1</th>\n",
       "      <td>1/2/2016 1:25</td>\n",
       "      <td>1/2/2016 1:37</td>\n",
       "      <td>Business</td>\n",
       "      <td>Fort Pierce</td>\n",
       "      <td>Fort Pierce</td>\n",
       "      <td>5.0</td>\n",
       "      <td>NaN</td>\n",
       "    </tr>\n",
       "    <tr>\n",
       "      <th>2</th>\n",
       "      <td>1/2/2016 20:25</td>\n",
       "      <td>1/2/2016 20:38</td>\n",
       "      <td>Business</td>\n",
       "      <td>Fort Pierce</td>\n",
       "      <td>Fort Pierce</td>\n",
       "      <td>4.8</td>\n",
       "      <td>Errand/Supplies</td>\n",
       "    </tr>\n",
       "    <tr>\n",
       "      <th>3</th>\n",
       "      <td>1/5/2016 17:31</td>\n",
       "      <td>1/5/2016 17:45</td>\n",
       "      <td>Business</td>\n",
       "      <td>Fort Pierce</td>\n",
       "      <td>Fort Pierce</td>\n",
       "      <td>4.7</td>\n",
       "      <td>Meeting</td>\n",
       "    </tr>\n",
       "    <tr>\n",
       "      <th>4</th>\n",
       "      <td>1/6/2016 14:42</td>\n",
       "      <td>1/6/2016 15:49</td>\n",
       "      <td>Business</td>\n",
       "      <td>Fort Pierce</td>\n",
       "      <td>West Palm Beach</td>\n",
       "      <td>63.7</td>\n",
       "      <td>Customer Visit</td>\n",
       "    </tr>\n",
       "  </tbody>\n",
       "</table>\n",
       "</div>"
      ],
      "text/plain": [
       "       START_DATE        END_DATE  CATEGORY        START             STOP  \\\n",
       "0  1/1/2016 21:11  1/1/2016 21:17  Business  Fort Pierce      Fort Pierce   \n",
       "1   1/2/2016 1:25   1/2/2016 1:37  Business  Fort Pierce      Fort Pierce   \n",
       "2  1/2/2016 20:25  1/2/2016 20:38  Business  Fort Pierce      Fort Pierce   \n",
       "3  1/5/2016 17:31  1/5/2016 17:45  Business  Fort Pierce      Fort Pierce   \n",
       "4  1/6/2016 14:42  1/6/2016 15:49  Business  Fort Pierce  West Palm Beach   \n",
       "\n",
       "   MILES          PURPOSE  \n",
       "0    5.1   Meal/Entertain  \n",
       "1    5.0              NaN  \n",
       "2    4.8  Errand/Supplies  \n",
       "3    4.7          Meeting  \n",
       "4   63.7   Customer Visit  "
      ]
     },
     "execution_count": 10,
     "metadata": {},
     "output_type": "execute_result"
    }
   ],
   "source": [
    "# Top 5 Rows\n",
    "df.head()"
   ]
  },
  {
   "cell_type": "code",
   "execution_count": 11,
   "id": "6993bc17-5197-44c3-907e-94a75a938336",
   "metadata": {},
   "outputs": [
    {
     "data": {
      "text/html": [
       "<div>\n",
       "<style scoped>\n",
       "    .dataframe tbody tr th:only-of-type {\n",
       "        vertical-align: middle;\n",
       "    }\n",
       "\n",
       "    .dataframe tbody tr th {\n",
       "        vertical-align: top;\n",
       "    }\n",
       "\n",
       "    .dataframe thead th {\n",
       "        text-align: right;\n",
       "    }\n",
       "</style>\n",
       "<table border=\"1\" class=\"dataframe\">\n",
       "  <thead>\n",
       "    <tr style=\"text-align: right;\">\n",
       "      <th></th>\n",
       "      <th>START_DATE</th>\n",
       "      <th>END_DATE</th>\n",
       "      <th>CATEGORY</th>\n",
       "      <th>START</th>\n",
       "      <th>STOP</th>\n",
       "      <th>MILES</th>\n",
       "      <th>PURPOSE</th>\n",
       "    </tr>\n",
       "  </thead>\n",
       "  <tbody>\n",
       "    <tr>\n",
       "      <th>1150</th>\n",
       "      <td>12/31/2016 1:07</td>\n",
       "      <td>12/31/2016 1:14</td>\n",
       "      <td>Business</td>\n",
       "      <td>Kar?chi</td>\n",
       "      <td>Kar?chi</td>\n",
       "      <td>0.7</td>\n",
       "      <td>Meeting</td>\n",
       "    </tr>\n",
       "    <tr>\n",
       "      <th>1151</th>\n",
       "      <td>12/31/2016 13:24</td>\n",
       "      <td>12/31/2016 13:42</td>\n",
       "      <td>Business</td>\n",
       "      <td>Kar?chi</td>\n",
       "      <td>Unknown Location</td>\n",
       "      <td>3.9</td>\n",
       "      <td>Temporary Site</td>\n",
       "    </tr>\n",
       "    <tr>\n",
       "      <th>1152</th>\n",
       "      <td>12/31/2016 15:03</td>\n",
       "      <td>12/31/2016 15:38</td>\n",
       "      <td>Business</td>\n",
       "      <td>Unknown Location</td>\n",
       "      <td>Unknown Location</td>\n",
       "      <td>16.2</td>\n",
       "      <td>Meeting</td>\n",
       "    </tr>\n",
       "    <tr>\n",
       "      <th>1153</th>\n",
       "      <td>12/31/2016 21:32</td>\n",
       "      <td>12/31/2016 21:50</td>\n",
       "      <td>Business</td>\n",
       "      <td>Katunayake</td>\n",
       "      <td>Gampaha</td>\n",
       "      <td>6.4</td>\n",
       "      <td>Temporary Site</td>\n",
       "    </tr>\n",
       "    <tr>\n",
       "      <th>1154</th>\n",
       "      <td>12/31/2016 22:08</td>\n",
       "      <td>12/31/2016 23:51</td>\n",
       "      <td>Business</td>\n",
       "      <td>Gampaha</td>\n",
       "      <td>Ilukwatta</td>\n",
       "      <td>48.2</td>\n",
       "      <td>Temporary Site</td>\n",
       "    </tr>\n",
       "  </tbody>\n",
       "</table>\n",
       "</div>"
      ],
      "text/plain": [
       "            START_DATE          END_DATE  CATEGORY             START  \\\n",
       "1150   12/31/2016 1:07   12/31/2016 1:14  Business           Kar?chi   \n",
       "1151  12/31/2016 13:24  12/31/2016 13:42  Business           Kar?chi   \n",
       "1152  12/31/2016 15:03  12/31/2016 15:38  Business  Unknown Location   \n",
       "1153  12/31/2016 21:32  12/31/2016 21:50  Business        Katunayake   \n",
       "1154  12/31/2016 22:08  12/31/2016 23:51  Business           Gampaha   \n",
       "\n",
       "                  STOP  MILES         PURPOSE  \n",
       "1150           Kar?chi    0.7         Meeting  \n",
       "1151  Unknown Location    3.9  Temporary Site  \n",
       "1152  Unknown Location   16.2         Meeting  \n",
       "1153           Gampaha    6.4  Temporary Site  \n",
       "1154         Ilukwatta   48.2  Temporary Site  "
      ]
     },
     "execution_count": 11,
     "metadata": {},
     "output_type": "execute_result"
    }
   ],
   "source": [
    "#Bottom 5 Rows\n",
    "df.tail()"
   ]
  },
  {
   "cell_type": "markdown",
   "id": "ac405193-3635-41ae-b339-c901c9cbd7e8",
   "metadata": {},
   "source": [
    "---"
   ]
  },
  {
   "cell_type": "markdown",
   "id": "8da23cf7-4a4c-4c3c-8bc5-510077dff1a6",
   "metadata": {},
   "source": [
    "#### **Data Cleaning**"
   ]
  },
  {
   "cell_type": "code",
   "execution_count": 12,
   "id": "aa763bbd-a486-4908-8a83-e4c26286c8b5",
   "metadata": {},
   "outputs": [],
   "source": [
    "#make string as datetime to identify individual easily\n",
    "df['START_DATE'] = pd.to_datetime(df['START_DATE'], format=\"%m/%d/%Y %H:%M\")\n",
    "df['END_DATE'] = pd.to_datetime(df['END_DATE'], format=\"%m/%d/%Y %H:%M\")\n",
    "\n",
    "df['HOUR'] =  [x.hour for x in df['START_DATE']]\n",
    "df['DAY'] =  [x.day for x in df['START_DATE']]\n",
    "df['MONTH'] =  [x.month for x in df['START_DATE']]\n",
    "df['WEEKDAY'] =  [calendar.day_name[x.dayofweek] for x in df['START_DATE']]\n",
    "df['DAY_OF_WEEK'] =  [x.dayofweek for x in df['START_DATE']]"
   ]
  },
  {
   "cell_type": "code",
   "execution_count": 13,
   "id": "354c3945-dcb3-439a-930c-b8ce20774274",
   "metadata": {},
   "outputs": [],
   "source": [
    "# Dictionary mapping numerical months to their corresponding names\n",
    "month_mapping = {\n",
    "    1: 'January',\n",
    "    2: 'February',\n",
    "    3: 'March',\n",
    "    4: 'April',\n",
    "    5: 'May',\n",
    "    6: 'June',\n",
    "    7: 'July',\n",
    "    8: 'August',\n",
    "    9: 'September',\n",
    "    10: 'October',\n",
    "    11: 'November',\n",
    "    12: 'December'\n",
    "}\n",
    "\n",
    "# Create a new column 'MONTHS' by mapping values from 'MONTH' column\n",
    "df['MONTHS'] = df['MONTH'].map(month_mapping)"
   ]
  },
  {
   "cell_type": "code",
   "execution_count": 14,
   "id": "72d11038-c22c-4fa6-82fb-8c81002bc84e",
   "metadata": {},
   "outputs": [
    {
     "data": {
      "text/html": [
       "<div>\n",
       "<style scoped>\n",
       "    .dataframe tbody tr th:only-of-type {\n",
       "        vertical-align: middle;\n",
       "    }\n",
       "\n",
       "    .dataframe tbody tr th {\n",
       "        vertical-align: top;\n",
       "    }\n",
       "\n",
       "    .dataframe thead th {\n",
       "        text-align: right;\n",
       "    }\n",
       "</style>\n",
       "<table border=\"1\" class=\"dataframe\">\n",
       "  <thead>\n",
       "    <tr style=\"text-align: right;\">\n",
       "      <th></th>\n",
       "      <th>START_DATE</th>\n",
       "      <th>END_DATE</th>\n",
       "      <th>CATEGORY</th>\n",
       "      <th>START</th>\n",
       "      <th>STOP</th>\n",
       "      <th>MILES</th>\n",
       "      <th>PURPOSE</th>\n",
       "      <th>HOUR</th>\n",
       "      <th>DAY</th>\n",
       "      <th>MONTH</th>\n",
       "      <th>WEEKDAY</th>\n",
       "      <th>DAY_OF_WEEK</th>\n",
       "      <th>MONTHS</th>\n",
       "    </tr>\n",
       "  </thead>\n",
       "  <tbody>\n",
       "    <tr>\n",
       "      <th>0</th>\n",
       "      <td>2016-01-01 21:11:00</td>\n",
       "      <td>2016-01-01 21:17:00</td>\n",
       "      <td>Business</td>\n",
       "      <td>Fort Pierce</td>\n",
       "      <td>Fort Pierce</td>\n",
       "      <td>5.1</td>\n",
       "      <td>Meal/Entertain</td>\n",
       "      <td>21</td>\n",
       "      <td>1</td>\n",
       "      <td>1</td>\n",
       "      <td>Friday</td>\n",
       "      <td>4</td>\n",
       "      <td>January</td>\n",
       "    </tr>\n",
       "    <tr>\n",
       "      <th>1</th>\n",
       "      <td>2016-01-02 01:25:00</td>\n",
       "      <td>2016-01-02 01:37:00</td>\n",
       "      <td>Business</td>\n",
       "      <td>Fort Pierce</td>\n",
       "      <td>Fort Pierce</td>\n",
       "      <td>5.0</td>\n",
       "      <td>NaN</td>\n",
       "      <td>1</td>\n",
       "      <td>2</td>\n",
       "      <td>1</td>\n",
       "      <td>Saturday</td>\n",
       "      <td>5</td>\n",
       "      <td>January</td>\n",
       "    </tr>\n",
       "    <tr>\n",
       "      <th>2</th>\n",
       "      <td>2016-01-02 20:25:00</td>\n",
       "      <td>2016-01-02 20:38:00</td>\n",
       "      <td>Business</td>\n",
       "      <td>Fort Pierce</td>\n",
       "      <td>Fort Pierce</td>\n",
       "      <td>4.8</td>\n",
       "      <td>Errand/Supplies</td>\n",
       "      <td>20</td>\n",
       "      <td>2</td>\n",
       "      <td>1</td>\n",
       "      <td>Saturday</td>\n",
       "      <td>5</td>\n",
       "      <td>January</td>\n",
       "    </tr>\n",
       "    <tr>\n",
       "      <th>3</th>\n",
       "      <td>2016-01-05 17:31:00</td>\n",
       "      <td>2016-01-05 17:45:00</td>\n",
       "      <td>Business</td>\n",
       "      <td>Fort Pierce</td>\n",
       "      <td>Fort Pierce</td>\n",
       "      <td>4.7</td>\n",
       "      <td>Meeting</td>\n",
       "      <td>17</td>\n",
       "      <td>5</td>\n",
       "      <td>1</td>\n",
       "      <td>Tuesday</td>\n",
       "      <td>1</td>\n",
       "      <td>January</td>\n",
       "    </tr>\n",
       "    <tr>\n",
       "      <th>4</th>\n",
       "      <td>2016-01-06 14:42:00</td>\n",
       "      <td>2016-01-06 15:49:00</td>\n",
       "      <td>Business</td>\n",
       "      <td>Fort Pierce</td>\n",
       "      <td>West Palm Beach</td>\n",
       "      <td>63.7</td>\n",
       "      <td>Customer Visit</td>\n",
       "      <td>14</td>\n",
       "      <td>6</td>\n",
       "      <td>1</td>\n",
       "      <td>Wednesday</td>\n",
       "      <td>2</td>\n",
       "      <td>January</td>\n",
       "    </tr>\n",
       "  </tbody>\n",
       "</table>\n",
       "</div>"
      ],
      "text/plain": [
       "           START_DATE            END_DATE  CATEGORY        START  \\\n",
       "0 2016-01-01 21:11:00 2016-01-01 21:17:00  Business  Fort Pierce   \n",
       "1 2016-01-02 01:25:00 2016-01-02 01:37:00  Business  Fort Pierce   \n",
       "2 2016-01-02 20:25:00 2016-01-02 20:38:00  Business  Fort Pierce   \n",
       "3 2016-01-05 17:31:00 2016-01-05 17:45:00  Business  Fort Pierce   \n",
       "4 2016-01-06 14:42:00 2016-01-06 15:49:00  Business  Fort Pierce   \n",
       "\n",
       "              STOP  MILES          PURPOSE  HOUR  DAY  MONTH    WEEKDAY  \\\n",
       "0      Fort Pierce    5.1   Meal/Entertain    21    1      1     Friday   \n",
       "1      Fort Pierce    5.0              NaN     1    2      1   Saturday   \n",
       "2      Fort Pierce    4.8  Errand/Supplies    20    2      1   Saturday   \n",
       "3      Fort Pierce    4.7          Meeting    17    5      1    Tuesday   \n",
       "4  West Palm Beach   63.7   Customer Visit    14    6      1  Wednesday   \n",
       "\n",
       "   DAY_OF_WEEK   MONTHS  \n",
       "0            4  January  \n",
       "1            5  January  \n",
       "2            5  January  \n",
       "3            1  January  \n",
       "4            2  January  "
      ]
     },
     "execution_count": 14,
     "metadata": {},
     "output_type": "execute_result"
    }
   ],
   "source": [
    "# Check Top 5 Rows\n",
    "df.head()"
   ]
  },
  {
   "cell_type": "code",
   "execution_count": 15,
   "id": "f58b10db-0461-4bd1-84c1-9d5953e6ce03",
   "metadata": {},
   "outputs": [
    {
     "data": {
      "text/plain": [
       "1"
      ]
     },
     "execution_count": 15,
     "metadata": {},
     "output_type": "execute_result"
    }
   ],
   "source": [
    "# Check Duplicates\n",
    "df.duplicated().sum()"
   ]
  },
  {
   "cell_type": "code",
   "execution_count": 16,
   "id": "1b10d99a-81c8-47cc-ad34-68e55d39517e",
   "metadata": {},
   "outputs": [
    {
     "data": {
      "text/html": [
       "<div>\n",
       "<style scoped>\n",
       "    .dataframe tbody tr th:only-of-type {\n",
       "        vertical-align: middle;\n",
       "    }\n",
       "\n",
       "    .dataframe tbody tr th {\n",
       "        vertical-align: top;\n",
       "    }\n",
       "\n",
       "    .dataframe thead th {\n",
       "        text-align: right;\n",
       "    }\n",
       "</style>\n",
       "<table border=\"1\" class=\"dataframe\">\n",
       "  <thead>\n",
       "    <tr style=\"text-align: right;\">\n",
       "      <th></th>\n",
       "      <th>START_DATE</th>\n",
       "      <th>END_DATE</th>\n",
       "      <th>CATEGORY</th>\n",
       "      <th>START</th>\n",
       "      <th>STOP</th>\n",
       "      <th>MILES</th>\n",
       "      <th>PURPOSE</th>\n",
       "      <th>HOUR</th>\n",
       "      <th>DAY</th>\n",
       "      <th>MONTH</th>\n",
       "      <th>WEEKDAY</th>\n",
       "      <th>DAY_OF_WEEK</th>\n",
       "      <th>MONTHS</th>\n",
       "    </tr>\n",
       "  </thead>\n",
       "  <tbody>\n",
       "    <tr>\n",
       "      <th>0</th>\n",
       "      <td>2016-01-01 21:11:00</td>\n",
       "      <td>2016-01-01 21:17:00</td>\n",
       "      <td>Business</td>\n",
       "      <td>Fort Pierce</td>\n",
       "      <td>Fort Pierce</td>\n",
       "      <td>5.1</td>\n",
       "      <td>Meal/Entertain</td>\n",
       "      <td>21</td>\n",
       "      <td>1</td>\n",
       "      <td>1</td>\n",
       "      <td>Friday</td>\n",
       "      <td>4</td>\n",
       "      <td>January</td>\n",
       "    </tr>\n",
       "    <tr>\n",
       "      <th>1</th>\n",
       "      <td>2016-01-02 01:25:00</td>\n",
       "      <td>2016-01-02 01:37:00</td>\n",
       "      <td>Business</td>\n",
       "      <td>Fort Pierce</td>\n",
       "      <td>Fort Pierce</td>\n",
       "      <td>5.0</td>\n",
       "      <td>NaN</td>\n",
       "      <td>1</td>\n",
       "      <td>2</td>\n",
       "      <td>1</td>\n",
       "      <td>Saturday</td>\n",
       "      <td>5</td>\n",
       "      <td>January</td>\n",
       "    </tr>\n",
       "    <tr>\n",
       "      <th>2</th>\n",
       "      <td>2016-01-02 20:25:00</td>\n",
       "      <td>2016-01-02 20:38:00</td>\n",
       "      <td>Business</td>\n",
       "      <td>Fort Pierce</td>\n",
       "      <td>Fort Pierce</td>\n",
       "      <td>4.8</td>\n",
       "      <td>Errand/Supplies</td>\n",
       "      <td>20</td>\n",
       "      <td>2</td>\n",
       "      <td>1</td>\n",
       "      <td>Saturday</td>\n",
       "      <td>5</td>\n",
       "      <td>January</td>\n",
       "    </tr>\n",
       "    <tr>\n",
       "      <th>3</th>\n",
       "      <td>2016-01-05 17:31:00</td>\n",
       "      <td>2016-01-05 17:45:00</td>\n",
       "      <td>Business</td>\n",
       "      <td>Fort Pierce</td>\n",
       "      <td>Fort Pierce</td>\n",
       "      <td>4.7</td>\n",
       "      <td>Meeting</td>\n",
       "      <td>17</td>\n",
       "      <td>5</td>\n",
       "      <td>1</td>\n",
       "      <td>Tuesday</td>\n",
       "      <td>1</td>\n",
       "      <td>January</td>\n",
       "    </tr>\n",
       "    <tr>\n",
       "      <th>4</th>\n",
       "      <td>2016-01-06 14:42:00</td>\n",
       "      <td>2016-01-06 15:49:00</td>\n",
       "      <td>Business</td>\n",
       "      <td>Fort Pierce</td>\n",
       "      <td>West Palm Beach</td>\n",
       "      <td>63.7</td>\n",
       "      <td>Customer Visit</td>\n",
       "      <td>14</td>\n",
       "      <td>6</td>\n",
       "      <td>1</td>\n",
       "      <td>Wednesday</td>\n",
       "      <td>2</td>\n",
       "      <td>January</td>\n",
       "    </tr>\n",
       "    <tr>\n",
       "      <th>...</th>\n",
       "      <td>...</td>\n",
       "      <td>...</td>\n",
       "      <td>...</td>\n",
       "      <td>...</td>\n",
       "      <td>...</td>\n",
       "      <td>...</td>\n",
       "      <td>...</td>\n",
       "      <td>...</td>\n",
       "      <td>...</td>\n",
       "      <td>...</td>\n",
       "      <td>...</td>\n",
       "      <td>...</td>\n",
       "      <td>...</td>\n",
       "    </tr>\n",
       "    <tr>\n",
       "      <th>1150</th>\n",
       "      <td>2016-12-31 01:07:00</td>\n",
       "      <td>2016-12-31 01:14:00</td>\n",
       "      <td>Business</td>\n",
       "      <td>Kar?chi</td>\n",
       "      <td>Kar?chi</td>\n",
       "      <td>0.7</td>\n",
       "      <td>Meeting</td>\n",
       "      <td>1</td>\n",
       "      <td>31</td>\n",
       "      <td>12</td>\n",
       "      <td>Saturday</td>\n",
       "      <td>5</td>\n",
       "      <td>December</td>\n",
       "    </tr>\n",
       "    <tr>\n",
       "      <th>1151</th>\n",
       "      <td>2016-12-31 13:24:00</td>\n",
       "      <td>2016-12-31 13:42:00</td>\n",
       "      <td>Business</td>\n",
       "      <td>Kar?chi</td>\n",
       "      <td>Unknown Location</td>\n",
       "      <td>3.9</td>\n",
       "      <td>Temporary Site</td>\n",
       "      <td>13</td>\n",
       "      <td>31</td>\n",
       "      <td>12</td>\n",
       "      <td>Saturday</td>\n",
       "      <td>5</td>\n",
       "      <td>December</td>\n",
       "    </tr>\n",
       "    <tr>\n",
       "      <th>1152</th>\n",
       "      <td>2016-12-31 15:03:00</td>\n",
       "      <td>2016-12-31 15:38:00</td>\n",
       "      <td>Business</td>\n",
       "      <td>Unknown Location</td>\n",
       "      <td>Unknown Location</td>\n",
       "      <td>16.2</td>\n",
       "      <td>Meeting</td>\n",
       "      <td>15</td>\n",
       "      <td>31</td>\n",
       "      <td>12</td>\n",
       "      <td>Saturday</td>\n",
       "      <td>5</td>\n",
       "      <td>December</td>\n",
       "    </tr>\n",
       "    <tr>\n",
       "      <th>1153</th>\n",
       "      <td>2016-12-31 21:32:00</td>\n",
       "      <td>2016-12-31 21:50:00</td>\n",
       "      <td>Business</td>\n",
       "      <td>Katunayake</td>\n",
       "      <td>Gampaha</td>\n",
       "      <td>6.4</td>\n",
       "      <td>Temporary Site</td>\n",
       "      <td>21</td>\n",
       "      <td>31</td>\n",
       "      <td>12</td>\n",
       "      <td>Saturday</td>\n",
       "      <td>5</td>\n",
       "      <td>December</td>\n",
       "    </tr>\n",
       "    <tr>\n",
       "      <th>1154</th>\n",
       "      <td>2016-12-31 22:08:00</td>\n",
       "      <td>2016-12-31 23:51:00</td>\n",
       "      <td>Business</td>\n",
       "      <td>Gampaha</td>\n",
       "      <td>Ilukwatta</td>\n",
       "      <td>48.2</td>\n",
       "      <td>Temporary Site</td>\n",
       "      <td>22</td>\n",
       "      <td>31</td>\n",
       "      <td>12</td>\n",
       "      <td>Saturday</td>\n",
       "      <td>5</td>\n",
       "      <td>December</td>\n",
       "    </tr>\n",
       "  </tbody>\n",
       "</table>\n",
       "<p>1154 rows × 13 columns</p>\n",
       "</div>"
      ],
      "text/plain": [
       "              START_DATE            END_DATE  CATEGORY             START  \\\n",
       "0    2016-01-01 21:11:00 2016-01-01 21:17:00  Business       Fort Pierce   \n",
       "1    2016-01-02 01:25:00 2016-01-02 01:37:00  Business       Fort Pierce   \n",
       "2    2016-01-02 20:25:00 2016-01-02 20:38:00  Business       Fort Pierce   \n",
       "3    2016-01-05 17:31:00 2016-01-05 17:45:00  Business       Fort Pierce   \n",
       "4    2016-01-06 14:42:00 2016-01-06 15:49:00  Business       Fort Pierce   \n",
       "...                  ...                 ...       ...               ...   \n",
       "1150 2016-12-31 01:07:00 2016-12-31 01:14:00  Business           Kar?chi   \n",
       "1151 2016-12-31 13:24:00 2016-12-31 13:42:00  Business           Kar?chi   \n",
       "1152 2016-12-31 15:03:00 2016-12-31 15:38:00  Business  Unknown Location   \n",
       "1153 2016-12-31 21:32:00 2016-12-31 21:50:00  Business        Katunayake   \n",
       "1154 2016-12-31 22:08:00 2016-12-31 23:51:00  Business           Gampaha   \n",
       "\n",
       "                  STOP  MILES          PURPOSE  HOUR  DAY  MONTH    WEEKDAY  \\\n",
       "0          Fort Pierce    5.1   Meal/Entertain    21    1      1     Friday   \n",
       "1          Fort Pierce    5.0              NaN     1    2      1   Saturday   \n",
       "2          Fort Pierce    4.8  Errand/Supplies    20    2      1   Saturday   \n",
       "3          Fort Pierce    4.7          Meeting    17    5      1    Tuesday   \n",
       "4      West Palm Beach   63.7   Customer Visit    14    6      1  Wednesday   \n",
       "...                ...    ...              ...   ...  ...    ...        ...   \n",
       "1150           Kar?chi    0.7          Meeting     1   31     12   Saturday   \n",
       "1151  Unknown Location    3.9   Temporary Site    13   31     12   Saturday   \n",
       "1152  Unknown Location   16.2          Meeting    15   31     12   Saturday   \n",
       "1153           Gampaha    6.4   Temporary Site    21   31     12   Saturday   \n",
       "1154         Ilukwatta   48.2   Temporary Site    22   31     12   Saturday   \n",
       "\n",
       "      DAY_OF_WEEK    MONTHS  \n",
       "0               4   January  \n",
       "1               5   January  \n",
       "2               5   January  \n",
       "3               1   January  \n",
       "4               2   January  \n",
       "...           ...       ...  \n",
       "1150            5  December  \n",
       "1151            5  December  \n",
       "1152            5  December  \n",
       "1153            5  December  \n",
       "1154            5  December  \n",
       "\n",
       "[1154 rows x 13 columns]"
      ]
     },
     "execution_count": 16,
     "metadata": {},
     "output_type": "execute_result"
    }
   ],
   "source": [
    "#Drop Duplicates\n",
    "df.drop_duplicates()"
   ]
  },
  {
   "cell_type": "code",
   "execution_count": 17,
   "id": "ec50ac98-ee00-427a-bfd4-a49e904581a2",
   "metadata": {},
   "outputs": [],
   "source": [
    "# Correct values by replacing with the correct character\n",
    "df['START'] = df['START'].replace('Karacha', 'Karachi')\n",
    "df['STOP'] = df['STOP'].replace('Kar?chi', 'Karachi')\n",
    "df['START'] = df['START'].replace('Kar?chi', 'Karachi')"
   ]
  },
  {
   "cell_type": "markdown",
   "id": "96a10656-1d5a-4d52-ad12-4a69dfa4a1fd",
   "metadata": {},
   "source": [
    "---"
   ]
  },
  {
   "cell_type": "markdown",
   "id": "7d641b83-4303-411c-8514-926ea275c947",
   "metadata": {},
   "source": [
    "#### **Data Analysis**"
   ]
  },
  {
   "cell_type": "code",
   "execution_count": 18,
   "id": "18b6a5da-d85e-40c8-b3af-9cd571295198",
   "metadata": {},
   "outputs": [
    {
     "data": {
      "text/plain": [
       "Business    1078\n",
       "Personal      77\n",
       "Name: CATEGORY, dtype: int64"
      ]
     },
     "execution_count": 18,
     "metadata": {},
     "output_type": "execute_result"
    }
   ],
   "source": [
    "# Value Counts in Category Column\n",
    "df['CATEGORY'].value_counts()"
   ]
  },
  {
   "cell_type": "code",
   "execution_count": 19,
   "id": "1622726f-4570-4214-a9b2-df7ccce2f844",
   "metadata": {},
   "outputs": [
    {
     "data": {
      "text/plain": [
       "Meeting            187\n",
       "Meal/Entertain     160\n",
       "Errand/Supplies    128\n",
       "Customer Visit     101\n",
       "Temporary Site      50\n",
       "Between Offices     18\n",
       "Moving               4\n",
       "Airport/Travel       3\n",
       "Charity ($)          1\n",
       "Commute              1\n",
       "Name: PURPOSE, dtype: int64"
      ]
     },
     "execution_count": 19,
     "metadata": {},
     "output_type": "execute_result"
    }
   ],
   "source": [
    "# Value Counts in Purpose Column\n",
    "df['PURPOSE'].value_counts()"
   ]
  },
  {
   "cell_type": "markdown",
   "id": "7b843493-f279-4e52-8e4c-46766f46d050",
   "metadata": {},
   "source": [
    "---"
   ]
  },
  {
   "cell_type": "markdown",
   "id": "4b2bc1b4-0086-461d-a5bc-3c84b2cb1632",
   "metadata": {},
   "source": [
    "#### **Visualize Trip Category and Purpose**"
   ]
  },
  {
   "cell_type": "markdown",
   "id": "6f68d5bd-a3b3-46ff-b218-3863da0a9c6f",
   "metadata": {},
   "source": [
    "##### **Category**\n",
    "-   This clarifies that the most frequent trips were business-related."
   ]
  },
  {
   "cell_type": "code",
   "execution_count": 20,
   "id": "d56fb643-b0dc-434e-b1d6-215db2ddbd50",
   "metadata": {},
   "outputs": [
    {
     "data": {
      "image/png": "[encoded data removed]",
      "text/plain": [
       "<Figure size 720x432 with 1 Axes>"
      ]
     },
     "metadata": {
      "needs_background": "light"
     },
     "output_type": "display_data"
    }
   ],
   "source": [
    "plt.figure(figsize=(10, 6)) \n",
    "sns . countplot(x= 'CATEGORY' ,data=df)\n",
    "plt.title('Trip Category', fontweight='bold')\n",
    "plt.show()"
   ]
  },
  {
   "cell_type": "markdown",
   "id": "3edc2952-823d-4642-b416-48a4df7f41cb",
   "metadata": {},
   "source": [
    "##### **Purpose**\n",
    "-  Meetings were the most frequent reason for using Uber in 2016. This suggests the user relied heavily on Uber to get to and from meetings."
   ]
  },
  {
   "cell_type": "code",
   "execution_count": 21,
   "id": "1e3ab81c-6fb9-4b46-baf9-1abe531c0a47",
   "metadata": {},
   "outputs": [
    {
     "data": {
      "image/png": "[encoded data removed]",
      "text/plain": [
       "<Figure size 720x432 with 1 Axes>"
      ]
     },
     "metadata": {
      "needs_background": "light"
     },
     "output_type": "display_data"
    }
   ],
   "source": [
    "plt.figure(figsize=(10, 6))  # Adjust the width and height \n",
    "sns.countplot(x='PURPOSE', data=df, order=df['PURPOSE'].value_counts().index)\n",
    "plt.xticks(rotation=90)  # Rotates the x-axis labels by 90 degrees\n",
    "plt.ylabel('Count') \n",
    "plt.title('Trip Purpose', fontweight='bold')\n",
    "plt.show()"
   ]
  },
  {
   "cell_type": "markdown",
   "id": "ab0177a9-8200-4c89-b1a6-221ec7b1ff59",
   "metadata": {},
   "source": [
    "---"
   ]
  },
  {
   "cell_type": "markdown",
   "id": "0725ffed-d265-4f21-a498-e9e01b5574af",
   "metadata": {},
   "source": [
    "#### **Visualize Mean Miles**"
   ]
  },
  {
   "cell_type": "markdown",
   "id": "848c885d-0918-4b84-9608-b2368cec2e1c",
   "metadata": {},
   "source": [
    "##### **Miles**\n",
    "-   Most trips were on the shorter side compared to longer distances."
   ]
  },
  {
   "cell_type": "code",
   "execution_count": 22,
   "id": "e39e6578-8dc7-4157-a4aa-bb543f804135",
   "metadata": {},
   "outputs": [
    {
     "data": {
      "image/png": "[encoded data removed]",
      "text/plain": [
       "<Figure size 720x432 with 1 Axes>"
      ]
     },
     "metadata": {
      "needs_background": "light"
     },
     "output_type": "display_data"
    }
   ],
   "source": [
    "plt.figure(figsize=(10, 6))  \n",
    "df['MILES'].plot.hist()\n",
    "plt.xlabel(\"Miles Range\")\n",
    "plt.ylabel(\"Number of Trips\")\n",
    "plt.title(\"Trips by Miles\", fontweight='bold')  # Making the title bold\n",
    "plt.show()"
   ]
  },
  {
   "cell_type": "markdown",
   "id": "c5ac7c5e-194a-4ffa-a7ab-d058b4e01cde",
   "metadata": {},
   "source": [
    "##### **Mean Miles**\n",
    "-     The data shows that \"commute\" trips have the highest average distance (mean miles) compared to other trip purposes.This suggests the user might have relied on Uber for longer commutes to and from work."
   ]
  },
  {
   "cell_type": "code",
   "execution_count": 23,
   "id": "c9f1d7ce-b7fd-4c0e-9b0b-aff764672f2f",
   "metadata": {},
   "outputs": [
    {
     "data": {
      "image/png": "[encoded data removed]",
      "text/plain": [
       "<Figure size 720x432 with 1 Axes>"
      ]
     },
     "metadata": {
      "needs_background": "light"
     },
     "output_type": "display_data"
    }
   ],
   "source": [
    "# Calculate mean miles for each purpose\n",
    "means = {\n",
    "    'Business': round(df[df['CATEGORY'] == 'Business'].MILES.mean(), 2),\n",
    "    'Personal': round(df[df['CATEGORY'] == 'Personal'].MILES.mean(), 2),\n",
    "    'Meal/Entertain': round(df[df['PURPOSE'] == 'Meal/Entertain'].MILES.mean(), 2),\n",
    "    'Errand/Supplies': round(df[df['PURPOSE'] == 'Errand/Supplies'].MILES.mean(), 2),\n",
    "    'Meeting': round(df[df['PURPOSE'] == 'Meeting'].MILES.mean(), 2),\n",
    "    'Customer Visit': round(df[df['PURPOSE'] == 'Customer Visit'].MILES.mean(), 2),\n",
    "    'Temporary Site': round(df[df['PURPOSE'] == 'Temporary Site'].MILES.mean(), 2),\n",
    "    'Between Offices': round(df[df['PURPOSE'] == 'Between Offices'].MILES.mean(), 2),\n",
    "    'Charity ($)': round(df[df['PURPOSE'] == 'Charity ($)'].MILES.mean(), 2),\n",
    "    'Commute': round(df[df['PURPOSE'] == 'Commute'].MILES.mean(), 2),\n",
    "    'Moving': round(df[df['PURPOSE'] == 'Moving'].MILES.mean(), 2),\n",
    "    'Airport/Travel': round(df[df['PURPOSE'] == 'Airport/Travel'].MILES.mean(), 2)\n",
    "}\n",
    "\n",
    "# Convert dictionary to DataFrame\n",
    "means_df = pd.DataFrame(list(means.items()), columns=['Purpose', 'Average Miles'])\n",
    "\n",
    "# Sort DataFrame by average miles\n",
    "means_df = means_df.sort_values(by='Average Miles', ascending=False)\n",
    "\n",
    "# Plot the bar graph using Seaborn\n",
    "plt.figure(figsize=(10, 6))\n",
    "sns.barplot(x='Purpose', y='Average Miles', data=means_df, order=means_df['Purpose'])\n",
    "plt.xlabel('Purpose')\n",
    "plt.ylabel('Average Miles')\n",
    "plt.title('Average Miles by Purpose', fontweight = 'bold')\n",
    "plt.xticks(rotation=90)\n",
    "plt.show()"
   ]
  },
  {
   "cell_type": "markdown",
   "id": "d2dc109b-131c-4051-b3a7-98200168f567",
   "metadata": {},
   "source": [
    "---"
   ]
  },
  {
   "cell_type": "markdown",
   "id": "5623a039-493f-4ed8-8e92-9a66b8d056ae",
   "metadata": {},
   "source": [
    "#### **Visualize Trip Pickup and Drop-Off**"
   ]
  },
  {
   "cell_type": "markdown",
   "id": "245eb1f8-0456-4856-a7b3-390808e05215",
   "metadata": {},
   "source": [
    "##### **Pickup Trips**\n",
    "-    Cary recorded the most Uber pickups compared to other locations! This suggests Cary was a frequent starting point for the user's Uber rides."
   ]
  },
  {
   "cell_type": "code",
   "execution_count": 24,
   "id": "db5eafa0-3014-4049-bbfb-6e8391614232",
   "metadata": {},
   "outputs": [
    {
     "data": {
      "image/png": "[encoded data removed]",
      "text/plain": [
       "<Figure size 720x432 with 1 Axes>"
      ]
     },
     "metadata": {
      "needs_background": "light"
     },
     "output_type": "display_data"
    }
   ],
   "source": [
    "plt.figure(figsize=(10, 6))  # Adjust the width and height as needed\n",
    "sns.countplot(x='START', data=df, order=df['START'].value_counts().nlargest(10).index)\n",
    "plt.xticks(rotation=90)  # Rotates the x-axis labels by 90 degrees\n",
    "plt.ylabel('Number of Trips') \n",
    "plt.xlabel('Location')\n",
    "plt.title('Trips per Pickup Location', fontweight='bold')\n",
    "plt.show()"
   ]
  },
  {
   "cell_type": "markdown",
   "id": "18f47393-9916-4b36-a18a-f9a688b2544f",
   "metadata": {},
   "source": [
    "##### **Dropoff Trips**\n",
    "-    The data shows Cary holds the top spot for both Uber pickups and drop-offs. This suggests Cary was a central location in the user's travel patterns - they frequently started and ended their rides there."
   ]
  },
  {
   "cell_type": "code",
   "execution_count": 25,
   "id": "b97e27bd-1048-4e9f-8f53-d6013c3daa97",
   "metadata": {},
   "outputs": [
    {
     "data": {
      "image/png": "[encoded data removed]",
      "text/plain": [
       "<Figure size 720x432 with 1 Axes>"
      ]
     },
     "metadata": {
      "needs_background": "light"
     },
     "output_type": "display_data"
    }
   ],
   "source": [
    "plt.figure(figsize=(10, 6))  # Adjust the width and height as needed\n",
    "sns.countplot(x='STOP', data=df, order=df['STOP'].value_counts().nlargest(10).index)\n",
    "plt.xticks(rotation=90)  # Rotates the x-axis labels by 90 degrees\n",
    "plt.ylabel('Number of Trips') \n",
    "plt.xlabel('Location')\n",
    "plt.title('Trips per Dropoff Location', fontweight='bold')\n",
    "plt.show()"
   ]
  },
  {
   "cell_type": "markdown",
   "id": "f6242781-124c-42ec-abc3-f7cce3901385",
   "metadata": {},
   "source": [
    "---"
   ]
  },
  {
   "cell_type": "markdown",
   "id": "59390e5a-6086-41f4-8ada-9d03d09be2ee",
   "metadata": {},
   "source": [
    "#### **Visualize Trip Frequency**"
   ]
  },
  {
   "cell_type": "markdown",
   "id": "7bbed86e-b504-4583-8f80-2660f1c4e2a2",
   "metadata": {},
   "source": [
    "##### **Trip Frequency**\n",
    "-    The analysis reveals a fascinating pattern: the user frequently takes Uber trips between Morrisville and Cary! This suggests these two locations played a significant role in the user's travel habits."
   ]
  },
  {
   "cell_type": "code",
   "execution_count": 26,
   "id": "b33c9dd4-eaeb-4a54-8bf2-eba6b0285775",
   "metadata": {},
   "outputs": [
    {
     "data": {
      "text/plain": [
       "Text(0.5, 1.0, 'Frequency of Trips')"
      ]
     },
     "execution_count": 26,
     "metadata": {},
     "output_type": "execute_result"
    },
    {
     "data": {
      "image/png": "[encoded data removed]",
      "text/plain": [
       "<Figure size 720x360 with 1 Axes>"
      ]
     },
     "metadata": {
      "needs_background": "light"
     },
     "output_type": "display_data"
    }
   ],
   "source": [
    "#Frequency of Trips from Location A to B\n",
    "a_b = df[[ 'START', 'STOP'] ].value_counts().nlargest(10)\n",
    "a_b.plot(kind='barh', color= 'steelblue', figsize=(10, 5))\n",
    "plt.xlabel('Trip Frequency')\n",
    "plt.ylabel('Trip Length' )\n",
    "plt.title( 'Frequency of Trips', fontweight = 'bold')"
   ]
  },
  {
   "cell_type": "markdown",
   "id": "58fbcb13-b392-4388-a2b1-6188e5c9c615",
   "metadata": {},
   "source": [
    "---"
   ]
  },
  {
   "cell_type": "markdown",
   "id": "36704f36-90ad-4f7a-9de4-126d1c5e690b",
   "metadata": {},
   "source": [
    "#### **Visualize Trips by Category and Purpose**"
   ]
  },
  {
   "cell_type": "markdown",
   "id": "db7dac6f-468c-43b2-b0ce-70afee07e7b8",
   "metadata": {},
   "source": [
    "##### **Meeting Trips per Day**\n",
    "-    The data analysis unearthed a fascinating trend: Fridays saw the most meeting trips via Uber! This suggests that the user likely had a busy meeting schedule, particularly concentrated on Fridays."
   ]
  },
  {
   "cell_type": "code",
   "execution_count": 27,
   "id": "550e3b61-c09c-4c1a-818d-dc80d4599a2b",
   "metadata": {},
   "outputs": [
    {
     "data": {
      "text/plain": [
       "Text(0.5, 1.0, 'Meeting Trips by Day')"
      ]
     },
     "execution_count": 27,
     "metadata": {},
     "output_type": "execute_result"
    },
    {
     "data": {
      "image/png": "[encoded data removed]",
      "text/plain": [
       "<Figure size 720x432 with 1 Axes>"
      ]
     },
     "metadata": {
      "needs_background": "light"
     },
     "output_type": "display_data"
    }
   ],
   "source": [
    "meet = df[ 'WEEKDAY' ][df['PURPOSE']=='Meeting'].value_counts()\n",
    "meet.plot(kind='bar', color= 'steelblue', figsize=(10, 6) )\n",
    "plt.xlabel('Days')\n",
    "plt.ylabel('Meeting Trips' )\n",
    "plt.title( 'Meeting Trips by Day', fontweight = 'bold')"
   ]
  },
  {
   "cell_type": "markdown",
   "id": "2c8ea187-5d37-410e-920d-af1ef28a6be2",
   "metadata": {},
   "source": [
    "##### **Meeting Trips by Month**\n",
    "-     The analysis reveals an interesting trend: December saw the most meeting trips compared to other months! This suggests the user might have had a particularly busy meeting schedule at the end of the year. "
   ]
  },
  {
   "cell_type": "code",
   "execution_count": 28,
   "id": "354a8650-072d-449a-86c7-d8c20ad4d3a6",
   "metadata": {},
   "outputs": [
    {
     "data": {
      "text/plain": [
       "Text(0.5, 1.0, 'Meeting Trips by Month')"
      ]
     },
     "execution_count": 28,
     "metadata": {},
     "output_type": "execute_result"
    },
    {
     "data": {
      "image/png": "[encoded data removed]",
      "text/plain": [
       "<Figure size 720x432 with 1 Axes>"
      ]
     },
     "metadata": {
      "needs_background": "light"
     },
     "output_type": "display_data"
    }
   ],
   "source": [
    "meet1 = df[ 'MONTHS' ][df['PURPOSE']=='Meeting'].value_counts()\n",
    "meet1.plot(kind='bar', color= 'steelblue', figsize=(10, 6) )\n",
    "plt.xlabel('Month')\n",
    "plt.ylabel('Meeting Trips' )\n",
    "plt.title( 'Meeting Trips by Month', fontweight = 'bold')"
   ]
  },
  {
   "cell_type": "markdown",
   "id": "d7087faf-9ad0-4f61-b38f-7c40e5f24e20",
   "metadata": {},
   "source": [
    "##### **Meal/Entertain Trips by Day**\n",
    "-     The data analysis reveals a surprising trend: Mondays saw the most meal/entertainment trips via Uber compared to other days of the week. This is counterintuitive as weekends might typically be associated with such outings. Perhaps these Monday trips were business lunches or dinners to kick off the work week."
   ]
  },
  {
   "cell_type": "code",
   "execution_count": 29,
   "id": "f75c5d57-9882-44ae-be6d-193fdc8c40d3",
   "metadata": {},
   "outputs": [
    {
     "data": {
      "text/plain": [
       "Text(0.5, 1.0, 'Meal/Entertain Trips by Day')"
      ]
     },
     "execution_count": 29,
     "metadata": {},
     "output_type": "execute_result"
    },
    {
     "data": {
      "image/png": "[encoded data removed]",
      "text/plain": [
       "<Figure size 720x432 with 1 Axes>"
      ]
     },
     "metadata": {
      "needs_background": "light"
     },
     "output_type": "display_data"
    }
   ],
   "source": [
    "me = df[ 'WEEKDAY' ][df['PURPOSE']=='Meal/Entertain'].value_counts()\n",
    "me.plot(kind='bar', color= 'steelblue', figsize=(10, 6) )\n",
    "plt.xlabel('Days')\n",
    "plt.ylabel('Meal/Entertain Trips' )\n",
    "plt.title( 'Meal/Entertain Trips by Day', fontweight = 'bold')"
   ]
  },
  {
   "cell_type": "markdown",
   "id": "29d00c37-8f9e-4409-bdd6-30402c7ea886",
   "metadata": {},
   "source": [
    "##### **Meal/Entertain Trips by Month**\n",
    "-     The data analysis reveals an interesting trend: March saw the most meal/entertainment trips compared to other months! This suggests the user might have had a particularly active social life or busy dining schedule in March. "
   ]
  },
  {
   "cell_type": "code",
   "execution_count": 30,
   "id": "5eb1d4a2-dbf6-404a-855a-c412927aa252",
   "metadata": {},
   "outputs": [
    {
     "data": {
      "text/plain": [
       "Text(0.5, 1.0, 'Meal/Entertain Trips by Month')"
      ]
     },
     "execution_count": 30,
     "metadata": {},
     "output_type": "execute_result"
    },
    {
     "data": {
      "image/png": "[encoded data removed]",
      "text/plain": [
       "<Figure size 720x432 with 1 Axes>"
      ]
     },
     "metadata": {
      "needs_background": "light"
     },
     "output_type": "display_data"
    }
   ],
   "source": [
    "me1 = df[ 'MONTHS' ][df['PURPOSE']=='Meal/Entertain'].value_counts()\n",
    "me1.plot(kind='bar', color= 'steelblue', figsize=(10, 6) )\n",
    "plt.xlabel('Month')\n",
    "plt.ylabel('Meal/Entertain Trips' )\n",
    "plt.title( 'Meal/Entertain Trips by Month', fontweight = 'bold')"
   ]
  },
  {
   "cell_type": "markdown",
   "id": "ea416856-c313-4a09-99f6-2f611b08908f",
   "metadata": {},
   "source": [
    "##### **Errand/Supplies Trips by Day**\n",
    "-     The data analysis reveals an interesting trend: Tuesdays saw the most errand/supply trips compared to other days of the week. This suggests Tuesdays might have been a designated day for the user to tackle errands and restock on supplies. "
   ]
  },
  {
   "cell_type": "code",
   "execution_count": 31,
   "id": "3b4030d4-2713-476e-8323-63a0ff7c2cd0",
   "metadata": {},
   "outputs": [
    {
     "data": {
      "text/plain": [
       "Text(0.5, 1.0, 'Errand/Supplies Trips by Day')"
      ]
     },
     "execution_count": 31,
     "metadata": {},
     "output_type": "execute_result"
    },
    {
     "data": {
      "image/png": "[encoded data removed]",
      "text/plain": [
       "<Figure size 720x432 with 1 Axes>"
      ]
     },
     "metadata": {
      "needs_background": "light"
     },
     "output_type": "display_data"
    }
   ],
   "source": [
    "es = df[ 'WEEKDAY' ][df['PURPOSE']=='Errand/Supplies'].value_counts()\n",
    "es.plot(kind='bar', color= 'steelblue', figsize=(10, 6) )\n",
    "plt.xlabel('Day')\n",
    "plt.ylabel('Errand/Supplies Trips' )\n",
    "plt.title( 'Errand/Supplies Trips by Day', fontweight = 'bold')"
   ]
  },
  {
   "cell_type": "markdown",
   "id": "69b0b33e-7147-44b4-aa37-08c53a7dc9fc",
   "metadata": {},
   "source": [
    "##### **Errand/Supply Trips by Month**\n",
    "-     The data analysis reveals a fascinating trend: December saw the most errand/supply trips compared to other months! This is quite interesting, as the holiday season can be a busy time for shopping and errands, but it also might disrupt typical routines. "
   ]
  },
  {
   "cell_type": "code",
   "execution_count": 32,
   "id": "26bcd395-4a7d-4533-beb2-500c1828edf3",
   "metadata": {},
   "outputs": [
    {
     "data": {
      "text/plain": [
       "Text(0.5, 1.0, 'Errand/Supplies Trips by Month')"
      ]
     },
     "execution_count": 32,
     "metadata": {},
     "output_type": "execute_result"
    },
    {
     "data": {
      "image/png": "[encoded data removed]",
      "text/plain": [
       "<Figure size 720x432 with 1 Axes>"
      ]
     },
     "metadata": {
      "needs_background": "light"
     },
     "output_type": "display_data"
    }
   ],
   "source": [
    "es1 = df[ 'MONTHS' ][df['PURPOSE']=='Errand/Supplies'].value_counts()\n",
    "es1.plot(kind='bar', color= 'steelblue', figsize=(10, 6) )\n",
    "plt.xlabel('Month')\n",
    "plt.ylabel('Errand/Supplies Trips' )\n",
    "plt.title( 'Errand/Supplies Trips by Month', fontweight = 'bold')"
   ]
  },
  {
   "cell_type": "markdown",
   "id": "98e0fda8-c93b-459b-9dda-e9172d43faab",
   "metadata": {},
   "source": [
    "##### **Airport/Travel Trips by Day**\n",
    "-     The data analysis reveals a logical trend: weekends see the most airport/travel trips compared to weekdays. This suggests the user likely utilized Uber for transportation to and from airports for travel during weekends."
   ]
  },
  {
   "cell_type": "code",
   "execution_count": 33,
   "id": "2671ebbe-2998-48be-9033-6856df8a4252",
   "metadata": {},
   "outputs": [
    {
     "data": {
      "text/plain": [
       "Text(0.5, 1.0, 'Airport/Travel Trips by Day')"
      ]
     },
     "execution_count": 33,
     "metadata": {},
     "output_type": "execute_result"
    },
    {
     "data": {
      "image/png": "[encoded data removed]",
      "text/plain": [
       "<Figure size 720x432 with 1 Axes>"
      ]
     },
     "metadata": {
      "needs_background": "light"
     },
     "output_type": "display_data"
    }
   ],
   "source": [
    "at = df[ 'WEEKDAY' ][df['PURPOSE']=='Airport/Travel'].value_counts()\n",
    "at.plot(kind='bar', color= 'steelblue', figsize=(10, 6) )\n",
    "plt.xlabel('Day')\n",
    "plt.ylabel('Airport/Travel Trips' )\n",
    "plt.title( 'Airport/Travel Trips by Day', fontweight = 'bold')"
   ]
  },
  {
   "cell_type": "markdown",
   "id": "8bc03a8c-545c-4ae6-8c96-958e77a71e75",
   "metadata": {},
   "source": [
    "##### **Airport/Travel Trips by Month**\n",
    "-     The data analysis reveals an interesting trend: December saw the most airport/travel trips compared to other months! This could be due to several reasons related to the holiday season."
   ]
  },
  {
   "cell_type": "code",
   "execution_count": 34,
   "id": "65b71a90-3097-4b55-ac42-1f1ba23217f3",
   "metadata": {},
   "outputs": [
    {
     "data": {
      "text/plain": [
       "Text(0.5, 1.0, 'Airport/Travel Trips by Month')"
      ]
     },
     "execution_count": 34,
     "metadata": {},
     "output_type": "execute_result"
    },
    {
     "data": {
      "image/png": "[encoded data removed]",
      "text/plain": [
       "<Figure size 720x432 with 1 Axes>"
      ]
     },
     "metadata": {
      "needs_background": "light"
     },
     "output_type": "display_data"
    }
   ],
   "source": [
    "at1 = df[ 'MONTHS' ][df['PURPOSE']=='Airport/Travel'].value_counts()\n",
    "at1.plot(kind='bar', color= 'steelblue', figsize=(10, 6) )\n",
    "plt.xlabel('Month')\n",
    "plt.ylabel('Airport/Travel Trips' )\n",
    "plt.title( 'Airport/Travel Trips by Month', fontweight = 'bold')"
   ]
  },
  {
   "cell_type": "markdown",
   "id": "e88f4920-91c2-4fa0-92a0-06344fccce4a",
   "metadata": {},
   "source": [
    "##### **Customer Visit Trips by Day**\n",
    "-     The data analysis reveals an interesting trend: Mondays saw the most customer visit trips compared to other days of the week. This suggests the user's work schedule might involve frequent client visits at the beginning of the week."
   ]
  },
  {
   "cell_type": "code",
   "execution_count": 35,
   "id": "c133ae27-a670-43a2-89ed-c21c99b71a83",
   "metadata": {},
   "outputs": [
    {
     "data": {
      "text/plain": [
       "Text(0.5, 1.0, 'Customer Visit Trips by Day')"
      ]
     },
     "execution_count": 35,
     "metadata": {},
     "output_type": "execute_result"
    },
    {
     "data": {
      "image/png": "[encoded data removed]",
      "text/plain": [
       "<Figure size 720x432 with 1 Axes>"
      ]
     },
     "metadata": {
      "needs_background": "light"
     },
     "output_type": "display_data"
    }
   ],
   "source": [
    "cv = df[ 'WEEKDAY' ][df['PURPOSE']=='Customer Visit'].value_counts()\n",
    "cv.plot(kind='bar', color= 'steelblue', figsize=(10, 6) )\n",
    "plt.xlabel('Day')\n",
    "plt.ylabel('Customer Visit Trips' )\n",
    "plt.title( 'Customer Visit Trips by Day', fontweight = 'bold')"
   ]
  },
  {
   "cell_type": "markdown",
   "id": "23b4fd1e-4568-4921-8385-1dbfbb9240bb",
   "metadata": {},
   "source": [
    "##### **Customer Visit Trips by Month**\n",
    "-     The data analysis reveals an interesting trend: December saw the most customer visit trips compared to other months. This is a curious finding, as December is often a busy month with holidays and potentially less focus on work activities. Could these December visits be for client performance reviews, project planning for the coming year, or finalizing contracts before the year-end? Exploring the context of the visits might be insightful."
   ]
  },
  {
   "cell_type": "code",
   "execution_count": 36,
   "id": "cb9a6653-dd5e-4a13-a37b-2d7843707b8b",
   "metadata": {},
   "outputs": [
    {
     "data": {
      "text/plain": [
       "Text(0.5, 1.0, 'Customer Visit Trips by Month')"
      ]
     },
     "execution_count": 36,
     "metadata": {},
     "output_type": "execute_result"
    },
    {
     "data": {
      "image/png": "[encoded data removed]",
      "text/plain": [
       "<Figure size 720x432 with 1 Axes>"
      ]
     },
     "metadata": {
      "needs_background": "light"
     },
     "output_type": "display_data"
    }
   ],
   "source": [
    "cv1 = df[ 'MONTHS' ][df['PURPOSE']=='Customer Visit'].value_counts()\n",
    "cv1.plot(kind='bar', color= 'steelblue', figsize=(10, 6) )\n",
    "plt.xlabel('Month')\n",
    "plt.ylabel('Customer Visit Trips' )\n",
    "plt.title( 'Customer Visit Trips by Month', fontweight = 'bold')"
   ]
  },
  {
   "cell_type": "markdown",
   "id": "46d4e44d-1cec-4ae1-8c01-92bb5a6aaa4a",
   "metadata": {},
   "source": [
    "##### **Between Offices Trips by Day**\n",
    "-     The data analysis reveals an interesting trend: Mondays saw the most \"between offices\" trips compared to other days of the week. This suggests the user might have a regular schedule for traveling between office locations, potentially kicking things off at the beginning of the workweek."
   ]
  },
  {
   "cell_type": "code",
   "execution_count": 37,
   "id": "f896fd53-f068-4bda-8590-4fff3fe05340",
   "metadata": {},
   "outputs": [
    {
     "data": {
      "text/plain": [
       "Text(0.5, 1.0, 'Between Offices Trips by Day')"
      ]
     },
     "execution_count": 37,
     "metadata": {},
     "output_type": "execute_result"
    },
    {
     "data": {
      "image/png": "[encoded data removed]",
      "text/plain": [
       "<Figure size 720x432 with 1 Axes>"
      ]
     },
     "metadata": {
      "needs_background": "light"
     },
     "output_type": "display_data"
    }
   ],
   "source": [
    "bo = df[ 'WEEKDAY' ][df['PURPOSE']=='Between Offices'].value_counts()\n",
    "bo.plot(kind='bar', color= 'steelblue', figsize=(10, 6) )\n",
    "plt.xlabel('Day')\n",
    "plt.ylabel('Between Offices Trips' )\n",
    "plt.title( 'Between Offices Trips by Day', fontweight = 'bold')"
   ]
  },
  {
   "cell_type": "markdown",
   "id": "96ecb334-4972-4623-a0f3-103a933a6c9d",
   "metadata": {},
   "source": [
    "##### **Between Offices Trips by Month**\n",
    "-     The analysis unearthed an interesting trend: November saw the most \"between-office\" trips compared to other months. This is a unique finding, as most business travel might be expected to be concentrated around the start or end of the quarter (i.e., January, April, July, October) or during specific project phases. Were there any company-wide events, training sessions, or project milestones in November that necessitated travel between offices?  Could there have been a specific project or department requiring planning or coordination between offices in preparation for the December year-end? Was there a new office space opened in November that required additional travel or coordination between locations during the initial phase? Did the company onboard new employees in November who might have required visits to different office locations for training or introductions?"
   ]
  },
  {
   "cell_type": "code",
   "execution_count": 38,
   "id": "9233e5d6-3d1c-4cb5-a3e6-6d6399955695",
   "metadata": {},
   "outputs": [
    {
     "data": {
      "text/plain": [
       "Text(0.5, 1.0, 'Between Offices Trips by Month')"
      ]
     },
     "execution_count": 38,
     "metadata": {},
     "output_type": "execute_result"
    },
    {
     "data": {
      "image/png": "[encoded data removed]",
      "text/plain": [
       "<Figure size 720x432 with 1 Axes>"
      ]
     },
     "metadata": {
      "needs_background": "light"
     },
     "output_type": "display_data"
    }
   ],
   "source": [
    "bo1 = df[ 'MONTHS' ][df['PURPOSE']=='Between Offices'].value_counts()\n",
    "bo1.plot(kind='bar', color= 'steelblue', figsize=(10, 6) )\n",
    "plt.xlabel('Day')\n",
    "plt.ylabel('Between Offices Trips' )\n",
    "plt.title( 'Between Offices Trips by Month', fontweight = 'bold')"
   ]
  },
  {
   "cell_type": "markdown",
   "id": "ddbf0153-a8ae-4002-a279-d42b171d82f6",
   "metadata": {},
   "source": [
    "---"
   ]
  },
  {
   "cell_type": "markdown",
   "id": "5856391e-0453-4053-939c-5a23d51ad1ed",
   "metadata": {},
   "source": [
    "#### **Visualize Daily Trips per Month**"
   ]
  },
  {
   "cell_type": "markdown",
   "id": "2a012309-c877-4887-911c-165abfcb8acf",
   "metadata": {},
   "source": [
    "##### **January**\n",
    "-     The data analysis reveals a fascinating detail: January 29th had the highest number of trips compared to other days in January. "
   ]
  },
  {
   "cell_type": "code",
   "execution_count": 39,
   "id": "65481bb7-6a47-481b-8f47-e922f0bd29a9",
   "metadata": {},
   "outputs": [
    {
     "data": {
      "text/plain": [
       "Text(0.5, 1.0, 'Number of Trips in January')"
      ]
     },
     "execution_count": 39,
     "metadata": {},
     "output_type": "execute_result"
    },
    {
     "data": {
      "image/png": "[encoded data removed]",
      "text/plain": [
       "<Figure size 720x432 with 1 Axes>"
      ]
     },
     "metadata": {
      "needs_background": "light"
     },
     "output_type": "display_data"
    }
   ],
   "source": [
    "#January\n",
    "jan = df[ 'DAY' ][df['MONTHS']=='January'].value_counts()\n",
    "jan.plot(kind='bar', color= 'steelblue', figsize=(10, 6) )\n",
    "plt.xlabel('Days')\n",
    "plt.ylabel('Number of Trips' )\n",
    "plt.title( 'Number of Trips in January', fontweight = 'bold')"
   ]
  },
  {
   "cell_type": "markdown",
   "id": "9ffcea40-ec0d-48e5-8a1d-0dac15843936",
   "metadata": {},
   "source": [
    "##### **February**\n",
    "-    The data analysis reveals a fascinating detail: February 21st had the highest number of trips compared to other days in February. "
   ]
  },
  {
   "cell_type": "code",
   "execution_count": 40,
   "id": "33153229-32f9-4ab6-987c-c119ee48f355",
   "metadata": {},
   "outputs": [
    {
     "data": {
      "text/plain": [
       "Text(0.5, 1.0, 'Number of Trips in Febuary')"
      ]
     },
     "execution_count": 40,
     "metadata": {},
     "output_type": "execute_result"
    },
    {
     "data": {
      "image/png": "[encoded data removed]",
      "text/plain": [
       "<Figure size 720x432 with 1 Axes>"
      ]
     },
     "metadata": {
      "needs_background": "light"
     },
     "output_type": "display_data"
    }
   ],
   "source": [
    "#February\n",
    "feb = df[ 'DAY' ][df['MONTHS']=='February'].value_counts()\n",
    "feb.plot(kind='bar', color= 'steelblue', figsize=(10, 6) )\n",
    "plt.xlabel('Days')\n",
    "plt.ylabel('Number of Trips' )\n",
    "plt.title( 'Number of Trips in Febuary', fontweight = 'bold')"
   ]
  },
  {
   "cell_type": "markdown",
   "id": "d9ec02ed-88c8-4b11-add4-4121d0e87362",
   "metadata": {},
   "source": [
    "##### **March**\n",
    "-     The data analysis reveals a fascinating detail: March 4th had the highest number of trips compared to other days in March. "
   ]
  },
  {
   "cell_type": "code",
   "execution_count": 41,
   "id": "c84b659b-7747-4875-b893-ff40a76ecdcd",
   "metadata": {},
   "outputs": [
    {
     "data": {
      "text/plain": [
       "Text(0.5, 1.0, 'Number of Trips in March')"
      ]
     },
     "execution_count": 41,
     "metadata": {},
     "output_type": "execute_result"
    },
    {
     "data": {
      "image/png": "[encoded data removed]",
      "text/plain": [
       "<Figure size 720x432 with 1 Axes>"
      ]
     },
     "metadata": {
      "needs_background": "light"
     },
     "output_type": "display_data"
    }
   ],
   "source": [
    "#March\n",
    "mar = df[ 'DAY' ][df['MONTHS']=='March'].value_counts()\n",
    "mar.plot(kind='bar', color= 'steelblue', figsize=(10, 6) )\n",
    "plt.xlabel('Days')\n",
    "plt.ylabel('Number of Trips' )\n",
    "plt.title( 'Number of Trips in March', fontweight = 'bold')"
   ]
  },
  {
   "cell_type": "markdown",
   "id": "1dcdab21-3557-4566-8ff7-ca4574aa5df8",
   "metadata": {},
   "source": [
    "##### **April**\n",
    "-     The data analysis reveals a fascinating detail: April 2nd had the highest number of trips compared to other days in April. "
   ]
  },
  {
   "cell_type": "code",
   "execution_count": 42,
   "id": "8ea0ccc5-08f6-405c-bbaa-ca41c28f4d7a",
   "metadata": {},
   "outputs": [
    {
     "data": {
      "text/plain": [
       "Text(0.5, 1.0, 'Number of Trips in April')"
      ]
     },
     "execution_count": 42,
     "metadata": {},
     "output_type": "execute_result"
    },
    {
     "data": {
      "image/png": "[encoded data removed]",
      "text/plain": [
       "<Figure size 720x432 with 1 Axes>"
      ]
     },
     "metadata": {
      "needs_background": "light"
     },
     "output_type": "display_data"
    }
   ],
   "source": [
    "#April\n",
    "apr = df[ 'DAY' ][df['MONTHS']=='April'].value_counts()\n",
    "apr.plot(kind='bar', color= 'steelblue', figsize=(10, 6) )\n",
    "plt.xlabel('Days')\n",
    "plt.ylabel('Number of Trips' )\n",
    "plt.title( 'Number of Trips in April', fontweight = 'bold')"
   ]
  },
  {
   "cell_type": "markdown",
   "id": "bf5650f5-5b89-479d-81c7-b0763c60198f",
   "metadata": {},
   "source": [
    "##### **May**\n",
    "-     The data analysis reveals a fascinating detail: May 1st had the highest number of trips compared to other days in May. "
   ]
  },
  {
   "cell_type": "code",
   "execution_count": 43,
   "id": "66cf600b-55b1-4dda-a994-7298244c5bf9",
   "metadata": {},
   "outputs": [
    {
     "data": {
      "text/plain": [
       "Text(0.5, 1.0, 'Number of Trips in May')"
      ]
     },
     "execution_count": 43,
     "metadata": {},
     "output_type": "execute_result"
    },
    {
     "data": {
      "image/png": "[encoded data removed]",
      "text/plain": [
       "<Figure size 720x432 with 1 Axes>"
      ]
     },
     "metadata": {
      "needs_background": "light"
     },
     "output_type": "display_data"
    }
   ],
   "source": [
    "#May\n",
    "may = df[ 'DAY' ][df['MONTHS']=='May'].value_counts()\n",
    "may.plot(kind='bar', color= 'steelblue', figsize=(10, 6) )\n",
    "plt.xlabel('Days')\n",
    "plt.ylabel('Number of Trips' )\n",
    "plt.title( 'Number of Trips in May', fontweight = 'bold')"
   ]
  },
  {
   "cell_type": "markdown",
   "id": "273acda9-b6de-43e4-b756-9b1807679240",
   "metadata": {},
   "source": [
    "##### **June**\n",
    "-     The data analysis reveals that June 27th saw the highest number of trips compared to other days in June."
   ]
  },
  {
   "cell_type": "code",
   "execution_count": 44,
   "id": "1ea17f91-039c-4970-bfef-97d680ddcbd6",
   "metadata": {},
   "outputs": [
    {
     "data": {
      "text/plain": [
       "Text(0.5, 1.0, 'Number of Trips in June')"
      ]
     },
     "execution_count": 44,
     "metadata": {},
     "output_type": "execute_result"
    },
    {
     "data": {
      "image/png": "[encoded data removed]",
      "text/plain": [
       "<Figure size 720x432 with 1 Axes>"
      ]
     },
     "metadata": {
      "needs_background": "light"
     },
     "output_type": "display_data"
    }
   ],
   "source": [
    "#June\n",
    "jun = df[ 'DAY' ][df['MONTHS']=='June'].value_counts()\n",
    "jun.plot(kind='bar', color= 'steelblue', figsize=(10, 6) )\n",
    "plt.xlabel('Days')\n",
    "plt.ylabel('Number of Trips' )\n",
    "plt.title( 'Number of Trips in June', fontweight = 'bold')"
   ]
  },
  {
   "cell_type": "markdown",
   "id": "8bd6f65f-9f13-4914-b2b2-d28798faf86c",
   "metadata": {},
   "source": [
    "##### **July**\n",
    "-      The data analysis reveals that July 18th saw the highest number of trips compared to other days in July."
   ]
  },
  {
   "cell_type": "code",
   "execution_count": 45,
   "id": "ebf622c3-0eca-497c-bde7-2af73b223b9b",
   "metadata": {},
   "outputs": [
    {
     "data": {
      "text/plain": [
       "Text(0.5, 1.0, 'Number of Trips in July')"
      ]
     },
     "execution_count": 45,
     "metadata": {},
     "output_type": "execute_result"
    },
    {
     "data": {
      "image/png": "[encoded data removed]",
      "text/plain": [
       "<Figure size 720x432 with 1 Axes>"
      ]
     },
     "metadata": {
      "needs_background": "light"
     },
     "output_type": "display_data"
    }
   ],
   "source": [
    "#July\n",
    "jul = df[ 'DAY' ][df['MONTHS']=='July'].value_counts()\n",
    "jul.plot(kind='bar', color= 'steelblue', figsize=(10, 6) )\n",
    "plt.xlabel('Days')\n",
    "plt.ylabel('Number of Trips' )\n",
    "plt.title( 'Number of Trips in July', fontweight = 'bold')"
   ]
  },
  {
   "cell_type": "markdown",
   "id": "945b7a7a-8a2e-4aa5-abe5-2be3dfdf5cb9",
   "metadata": {},
   "source": [
    "##### **August**\n",
    "-     The data analysis reveals that August 26th saw the highest number of trips compared to other days in August."
   ]
  },
  {
   "cell_type": "code",
   "execution_count": 46,
   "id": "d42f3fcc-ea12-4d1b-8341-d5136c5fbb04",
   "metadata": {},
   "outputs": [
    {
     "data": {
      "text/plain": [
       "Text(0.5, 1.0, 'Number of Trips in August')"
      ]
     },
     "execution_count": 46,
     "metadata": {},
     "output_type": "execute_result"
    },
    {
     "data": {
      "image/png": "[encoded data removed]",
      "text/plain": [
       "<Figure size 720x432 with 1 Axes>"
      ]
     },
     "metadata": {
      "needs_background": "light"
     },
     "output_type": "display_data"
    }
   ],
   "source": [
    "#August\n",
    "aug = df[ 'DAY' ][df['MONTHS']=='August'].value_counts()\n",
    "aug.plot(kind='bar', color= 'steelblue', figsize=(10, 6) )\n",
    "plt.xlabel('Days')\n",
    "plt.ylabel('Number of Trips' )\n",
    "plt.title( 'Number of Trips in August', fontweight = 'bold')"
   ]
  },
  {
   "cell_type": "markdown",
   "id": "8facb53a-57f2-4a81-bc06-c77a739f3a4c",
   "metadata": {},
   "source": [
    "##### **September**\n",
    "-     The data analysis reveals that September 19th saw the highest number of trips compared to other days in September. "
   ]
  },
  {
   "cell_type": "code",
   "execution_count": 47,
   "id": "7644ef43-5b32-4c22-8ca9-cc79a3a62455",
   "metadata": {},
   "outputs": [
    {
     "data": {
      "text/plain": [
       "Text(0.5, 1.0, 'Number of Trips in September')"
      ]
     },
     "execution_count": 47,
     "metadata": {},
     "output_type": "execute_result"
    },
    {
     "data": {
      "image/png": "[encoded data removed]",
      "text/plain": [
       "<Figure size 720x432 with 1 Axes>"
      ]
     },
     "metadata": {
      "needs_background": "light"
     },
     "output_type": "display_data"
    }
   ],
   "source": [
    "#September\n",
    "sep = df[ 'DAY' ][df['MONTHS']=='September'].value_counts()\n",
    "sep.plot(kind='bar', color= 'steelblue', figsize=(10, 6) )\n",
    "plt.xlabel('Days')\n",
    "plt.ylabel('Number of Trips' )\n",
    "plt.title( 'Number of Trips in September', fontweight = 'bold')"
   ]
  },
  {
   "cell_type": "markdown",
   "id": "87125d66-2d18-4635-9d9c-fdabf8c6f896",
   "metadata": {},
   "source": [
    "##### **October**\n",
    "-     The data reveals October 30th had the highest number of trips. The end of the month can sometimes be busy for people catching up on errands, work deadlines, or social gatherings before the new month begins. "
   ]
  },
  {
   "cell_type": "code",
   "execution_count": 48,
   "id": "4a96f798-2ca5-460b-964e-b5e9c5600530",
   "metadata": {},
   "outputs": [
    {
     "data": {
      "text/plain": [
       "Text(0.5, 1.0, 'Number of Trips in October')"
      ]
     },
     "execution_count": 48,
     "metadata": {},
     "output_type": "execute_result"
    },
    {
     "data": {
      "image/png": "[encoded data removed]",
      "text/plain": [
       "<Figure size 720x432 with 1 Axes>"
      ]
     },
     "metadata": {
      "needs_background": "light"
     },
     "output_type": "display_data"
    }
   ],
   "source": [
    "octo = df[ 'DAY' ][df['MONTHS']=='October'].value_counts()\n",
    "octo.plot(kind='bar', color= 'steelblue', figsize=(10, 6) )\n",
    "plt.xlabel('Days')\n",
    "plt.ylabel('Number of Trips' )\n",
    "plt.title( 'Number of Trips in October', fontweight = 'bold')"
   ]
  },
  {
   "cell_type": "markdown",
   "id": "33305a1d-815f-47db-9443-1534f9c5b0ba",
   "metadata": {},
   "source": [
    "##### **November**\n",
    "-     The data reveals an intriguing fact: The 13th in November had the most trips compared to other days in that month."
   ]
  },
  {
   "cell_type": "code",
   "execution_count": 49,
   "id": "6fb328db-06ce-436c-9b84-d6c7564960be",
   "metadata": {},
   "outputs": [
    {
     "data": {
      "text/plain": [
       "Text(0.5, 1.0, 'Number of Trips in November')"
      ]
     },
     "execution_count": 49,
     "metadata": {},
     "output_type": "execute_result"
    },
    {
     "data": {
      "image/png": "[encoded data removed]",
      "text/plain": [
       "<Figure size 720x432 with 1 Axes>"
      ]
     },
     "metadata": {
      "needs_background": "light"
     },
     "output_type": "display_data"
    }
   ],
   "source": [
    "nov = df[ 'DAY' ][df['MONTHS']=='November'].value_counts()\n",
    "nov.plot(kind='bar', color= 'steelblue', figsize=(10, 6) )\n",
    "plt.xlabel('Days')\n",
    "plt.ylabel('Number of Trips' )\n",
    "plt.title( 'Number of Trips in November', fontweight = 'bold')"
   ]
  },
  {
   "cell_type": "markdown",
   "id": "755708cd-66af-4830-8e7b-db64eeeafdad",
   "metadata": {},
   "source": [
    "##### **December**\n",
    "-     The data analysis reveals a fascinating detail: December 29th saw the highest number of trips compared to other days in December. This suggests a surge in Uber usage on this specific day within the already busy December month. "
   ]
  },
  {
   "cell_type": "code",
   "execution_count": 50,
   "id": "81af2d4e-8647-4483-9f82-e7818eb04d96",
   "metadata": {},
   "outputs": [
    {
     "data": {
      "text/plain": [
       "Text(0.5, 1.0, 'Number of Trips in December')"
      ]
     },
     "execution_count": 50,
     "metadata": {},
     "output_type": "execute_result"
    },
    {
     "data": {
      "image/png": "[encoded data removed]",
      "text/plain": [
       "<Figure size 720x432 with 1 Axes>"
      ]
     },
     "metadata": {
      "needs_background": "light"
     },
     "output_type": "display_data"
    }
   ],
   "source": [
    "dec = df[ 'DAY' ][df['MONTHS']=='December'].value_counts()\n",
    "dec.plot(kind='bar', color= 'steelblue', figsize=(10, 6) )\n",
    "plt.xlabel('Days')\n",
    "plt.ylabel('Number of Trips' )\n",
    "plt.title( 'Number of Trips in December', fontweight = 'bold')"
   ]
  },
  {
   "cell_type": "markdown",
   "id": "787d14d3-7988-49bd-bfb6-2d0c0a7a278d",
   "metadata": {},
   "source": [
    "---"
   ]
  },
  {
   "cell_type": "markdown",
   "id": "1d779ab7-36d6-4ac9-9b42-2befb1806116",
   "metadata": {},
   "source": [
    "##### **Data Source**\n",
    "-     Zeeshan-ul-hassan Usmani, My Uber Drives Dataset, Kaggle Dataset Repository, March 23, 2017\n",
    "-     https://www.kaggle.com/datasets/zusmani/uberdrives"
   ]
  },
  {
   "cell_type": "markdown",
   "id": "157f3e5c-b46a-4e48-b50e-7e6a24efd51f",
   "metadata": {},
   "source": [
    "---"
   ]
  },
  {
   "cell_type": "markdown",
   "id": "b74b4581-75e5-47e4-8fbf-13f626a2ab01",
   "metadata": {},
   "source": [
    "# **END**"
   ]
  }
 ],
 "metadata": {
  "kernelspec": {
   "display_name": "Python 3 (ipykernel)",
   "language": "python",
   "name": "python3"
  },
  "language_info": {
   "codemirror_mode": {
    "name": "ipython",
    "version": 3
   },
   "file_extension": ".py",
   "mimetype": "text/x-python",
   "name": "python",
   "nbconvert_exporter": "python",
   "pygments_lexer": "ipython3",
   "version": "3.9.7"
  }
 },
 "nbformat": 4,
 "nbformat_minor": 5
}
